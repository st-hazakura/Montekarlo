{
 "cells": [
  {
   "cell_type": "markdown",
   "metadata": {},
   "source": [
    "Numericky spočítejte integrály z funkcí fn\n",
    "kde fn (x1, x2, ... xn) = Σ xi^2      n<1,..,5>, a to vždy na oblasti <-1,1>^n\n",
    "\n",
    "a) klasickou num. metodou (obdélníkovou resp. jejími vícedimenz. analogiemi)\n",
    "\n",
    "b) MC metodou využívající střední hodnotu integrované funkce. s chybou Ɛ<=0.01 .\n",
    "\n",
    "Sestrojte v obou případech a), b) závislost doby výpočtu t na dimenzi definičního oboru n. "
   ]
  },
  {
   "cell_type": "markdown",
   "metadata": {},
   "source": [
    "A) Obdelnikova metoda"
   ]
  },
  {
   "cell_type": "code",
   "execution_count": 3,
   "metadata": {},
   "outputs": [],
   "source": [
    "import numpy as np"
   ]
  },
  {
   "cell_type": "markdown",
   "metadata": {},
   "source": [
    "### 1D"
   ]
  },
  {
   "cell_type": "code",
   "execution_count": 64,
   "metadata": {},
   "outputs": [],
   "source": [
    "def f_ce(x):\n",
    "    return x**2\n",
    "\n",
    "\n",
    "def D1(a,b, pocet_kroku):\n",
    "\n",
    "    h = (b - a) / pocet_kroku\n",
    "    integral = 0\n",
    "    \n",
    "    for i in range(pocet_kroku):\n",
    "        x = a + i*h + h/2\n",
    "        integral += f_ce(x)\n",
    "    integral *= h\n",
    "    \n",
    "    return integral"
   ]
  },
  {
   "cell_type": "code",
   "execution_count": 65,
   "metadata": {},
   "outputs": [
    {
     "data": {
      "text/plain": [
       "9"
      ]
     },
     "execution_count": 65,
     "metadata": {},
     "output_type": "execute_result"
    }
   ],
   "source": [
    "a, b = -1, 1\n",
    "pocet_kroku = 100\n",
    "analyticky_vysledek = 2/3\n",
    "chyba = 0.01\n",
    "\n",
    "for i in range(1, pocet_kroku):\n",
    "    integral = D1(a,b, i)\n",
    "    if abs(integral - analyticky_vysledek) <= chyba:\n",
    "        pocet_pro_nalezeni = i\n",
    "        break\n",
    "\n",
    "pocet_pro_nalezeni"
   ]
  },
  {
   "cell_type": "markdown",
   "metadata": {},
   "source": [
    "### 2D\n",
    "\n",
    "double integral (x^2 + y^2)with range -1, 1 "
   ]
  },
  {
   "cell_type": "code",
   "execution_count": 69,
   "metadata": {},
   "outputs": [
    {
     "data": {
      "text/plain": [
       "17"
      ]
     },
     "execution_count": 69,
     "metadata": {},
     "output_type": "execute_result"
    }
   ],
   "source": [
    "def f2D(x, y):\n",
    "    return x**2 + y**2\n",
    "\n",
    "a, b = -1, 1\n",
    "pocet_kroku = 100\n",
    "analyticky_vysledek = 8/3\n",
    "chyba = 0.01\n",
    "\n",
    "for aktualni_krok in range(1, pocet_kroku): \n",
    "    pocet_kroku_x = pocet_kroku_y = aktualni_krok\n",
    "    hx = hy = (b - a) / pocet_kroku_x\n",
    "\n",
    "    integral = 0\n",
    "    for i in range(pocet_kroku_x):\n",
    "        for j in range(pocet_kroku_y):\n",
    "            x = a + i * hx + hx/2 # h/2 - skocit do pulky obdelniku\n",
    "            y = a + j * hy + hy/2\n",
    "            integral += f2D(x, y)\n",
    "    integral *= hx * hy  \n",
    "    \n",
    "    if abs(integral - analyticky_vysledek) <= chyba:\n",
    "        pocet_pro_nalezeni = aktualni_krok\n",
    "        break    \n",
    "\n",
    "pocet_pro_nalezeni"
   ]
  },
  {
   "cell_type": "markdown",
   "metadata": {},
   "source": [
    "### 3D\n",
    "\n",
    "definite integral from -1 to 1 definite integral from -1 to 1 definite integral from -1 to 1 (x**2 +y**2 + z**2 ) dx dy dz "
   ]
  },
  {
   "cell_type": "code",
   "execution_count": 72,
   "metadata": {},
   "outputs": [
    {
     "data": {
      "text/plain": [
       "29"
      ]
     },
     "execution_count": 72,
     "metadata": {},
     "output_type": "execute_result"
    }
   ],
   "source": [
    "def f3D(x,y,z):\n",
    "    return x**2 + y**2 + z**2\n",
    "\n",
    "a,b = -1, 1\n",
    "pocet_kroku = 100\n",
    "analyticky_vysledek = 8\n",
    "chyba = 0.01\n",
    "\n",
    "for aktualni_krok in range(1, pocet_kroku):\n",
    "    integral = 0\n",
    "    pc_x = pc_y = pc_z = aktualni_krok\n",
    "    hx = hy = hz = (b-a)/pc_x\n",
    "\n",
    "    for i in range(pc_x):\n",
    "        for j in range(pc_y):\n",
    "            for k in range(pc_z):\n",
    "                x = a + i*hx + hx/2\n",
    "                y = a + j*hy + hy/2\n",
    "                z = a + k*hz + hz/2\n",
    "                integral += f3D(x,y,z)\n",
    "    integral *= hx*hy*hz\n",
    "    \n",
    "    if abs(integral - analyticky_vysledek) <= chyba:\n",
    "        pocet_pro_nalezeni = aktualni_krok\n",
    "        break\n",
    "     \n",
    "pocet_pro_nalezeni"
   ]
  },
  {
   "cell_type": "markdown",
   "metadata": {},
   "source": [
    "### 4D"
   ]
  },
  {
   "cell_type": "code",
   "execution_count": 82,
   "metadata": {},
   "outputs": [
    {
     "data": {
      "text/plain": [
       "47"
      ]
     },
     "execution_count": 82,
     "metadata": {},
     "output_type": "execute_result"
    }
   ],
   "source": [
    "def f4D(x,y,z,w):\n",
    "    return x**2 + y**2 + z**2 + w**2\n",
    "\n",
    "a,b = -1, 1\n",
    "pocet_kroku = 50\n",
    "chyba = 0.01\n",
    "analyticky_vysledek = 64/3\n",
    "\n",
    "for aktualni_krok in range(1, pocet_kroku):\n",
    "    \n",
    "    integral = 0\n",
    "    pc_x = pc_y = pc_z = pc_w = aktualni_krok\n",
    "    hx = hy = hz = hw= (b-a)/pc_x\n",
    "\n",
    "    for i in range(pc_x):\n",
    "        for j in range(pc_y):\n",
    "            for k in range(pc_z):\n",
    "                for l in range(pc_w):\n",
    "                    x = a + i*hx + hx/2\n",
    "                    y = a + j*hy + hy/2\n",
    "                    z = a + k*hz + hz/2\n",
    "                    w = a + l*hw + hw/2\n",
    "                    integral += f4D(x,y,z,w)\n",
    "    integral *= hx*hy*hz*hw\n",
    "\n",
    "    if abs(integral - analyticky_vysledek) <= chyba:\n",
    "        pocet_pro_nalezeni = aktualni_krok\n",
    "        break\n",
    "    \n",
    "pocet_pro_nalezeni"
   ]
  },
  {
   "cell_type": "markdown",
   "metadata": {},
   "source": [
    "### 5D"
   ]
  },
  {
   "cell_type": "code",
   "execution_count": 1,
   "metadata": {},
   "outputs": [
    {
     "data": {
      "text/plain": [
       "70"
      ]
     },
     "execution_count": 1,
     "metadata": {},
     "output_type": "execute_result"
    }
   ],
   "source": [
    "def f5D(x,y,z,w,v):\n",
    "    return x**2 + y**2 + z**2 + w**2 + v**2\n",
    "\n",
    "a,b = -1, 1\n",
    "pocet_kroku = 120\n",
    "chyba = 0.01\n",
    "analyticky_vysledek = 53.33\n",
    "\n",
    "for aktualni_krok in range(70, pocet_kroku):\n",
    "    \n",
    "    integral = 0\n",
    "    pc_x = pc_y = pc_z = pc_w = pc_v = aktualni_krok\n",
    "    hx = hy = hz = hw = hv = (b-a)/pc_x\n",
    "\n",
    "    for i in range(pc_x):\n",
    "        for j in range(pc_y):\n",
    "            for k in range(pc_z):\n",
    "                for l in range(pc_w):\n",
    "                    for t in range(pc_v):\n",
    "                        x = a + i*hx + hx/2\n",
    "                        y = a + j*hy + hy/2\n",
    "                        z = a + k*hz + hz/2\n",
    "                        w = a + l*hw + hw/2\n",
    "                        v = a + t*hv + hv/2\n",
    "                        integral += f5D(x,y,z,w,v)\n",
    "    integral *= hx*hy*hz*hw*hv\n",
    "\n",
    "    if abs(integral - analyticky_vysledek) <= chyba:\n",
    "        pocet_pro_nalezeni = aktualni_krok\n",
    "        break\n",
    "    \n",
    "pocet_pro_nalezeni"
   ]
  },
  {
   "cell_type": "markdown",
   "metadata": {},
   "source": [
    "## B) MC metodou využívající střední hodnotu integrované funkce.\n",
    "\n",
    "???? jak spocitat presny pocet kroku k nalezeni s chybou jestli generujeme nahodne (jediny napad zprumerovat)"
   ]
  },
  {
   "cell_type": "code",
   "execution_count": 84,
   "metadata": {},
   "outputs": [],
   "source": [
    "import random\n",
    "def MC1D(x):\n",
    "    return x**2\n",
    "\n",
    "def metoda_stredni_hodnoty_1D(pocet_kroku, a, b):\n",
    "\n",
    "    hodnota_fce = 0\n",
    "    \n",
    "    for i in range(pocet_kroku):\n",
    "        nahodny_x = random.uniform(a,b) \n",
    "        hodnota_fce += MC1D(nahodny_x)\n",
    "\n",
    "    integral = (b-a)* (1/pocet_kroku) * hodnota_fce\n",
    "    \n",
    "    return integral"
   ]
  },
  {
   "cell_type": "code",
   "execution_count": 118,
   "metadata": {},
   "outputs": [
    {
     "data": {
      "text/plain": [
       "96.1234"
      ]
     },
     "execution_count": 118,
     "metadata": {},
     "output_type": "execute_result"
    }
   ],
   "source": [
    "a,b = -1, 1\n",
    "max_pocet_kroku = 700\n",
    "chyba = 0.01\n",
    "analyticky_vysledek = 2/3\n",
    "pocet_pro_nalezeni = 0\n",
    "\n",
    "for i in range(int(1e4)):\n",
    "    for aktualni_krok in range(1, max_pocet_kroku):\n",
    "        integral = metoda_stredni_hodnoty_1D(aktualni_krok, a,b)\n",
    "        if abs(integral - analyticky_vysledek) < 0.001:\n",
    "            pocet_pro_nalezeni += aktualni_krok\n",
    "            break\n",
    "    \n",
    "\n",
    "pocet_pro_nalezeni /=1e4\n",
    "pocet_pro_nalezeni "
   ]
  },
  {
   "cell_type": "markdown",
   "metadata": {},
   "source": [
    "#### 2D"
   ]
  },
  {
   "cell_type": "code",
   "execution_count": 120,
   "metadata": {},
   "outputs": [],
   "source": [
    "def MC2D(x, y):\n",
    "    return x**2 + y**2\n",
    "\n",
    "def metoda_stredni_hodnoty_2D(pocet_kroku, a, b):\n",
    "\n",
    "    hodnota_fce = 0\n",
    "    \n",
    "    for i in range(pocet_kroku):\n",
    "        nahodny_x = random.uniform(a,b)\n",
    "        nahodny_y = random.uniform(a, b) \n",
    "        hodnota_fce += MC2D(nahodny_x, nahodny_y)\n",
    "\n",
    "    integral = (b-a)**2 * (1/pocet_kroku) * hodnota_fce\n",
    "    \n",
    "    return integral"
   ]
  },
  {
   "cell_type": "code",
   "execution_count": 121,
   "metadata": {},
   "outputs": [
    {
     "data": {
      "text/plain": [
       "195.2487"
      ]
     },
     "execution_count": 121,
     "metadata": {},
     "output_type": "execute_result"
    }
   ],
   "source": [
    "a,b = -1, 1\n",
    "max_pocet_kroku = 1000\n",
    "chyba = 0.01\n",
    "analyticky_vysledek = 8/3\n",
    "pocet_pro_nalezeni = 0\n",
    "\n",
    "for i in range(int(1e4)):\n",
    "    for aktualni_krok in range(1, max_pocet_kroku):\n",
    "        integral = metoda_stredni_hodnoty_2D(aktualni_krok, a,b)\n",
    "        if abs(integral - analyticky_vysledek) < 0.001:\n",
    "            pocet_pro_nalezeni += aktualni_krok\n",
    "            break\n",
    "    \n",
    "\n",
    "pocet_pro_nalezeni /=1e4\n",
    "pocet_pro_nalezeni "
   ]
  },
  {
   "cell_type": "markdown",
   "metadata": {},
   "source": [
    "#### 3D"
   ]
  },
  {
   "cell_type": "code",
   "execution_count": 122,
   "metadata": {},
   "outputs": [],
   "source": [
    "def MC3D(x, y, z):\n",
    "    return x**2 + y**2 + z**2\n",
    "\n",
    "def metoda_stredni_hodnoty_3D(pocet_kroku, a, b):\n",
    "\n",
    "    hodnota_fce = 0\n",
    "    \n",
    "    for i in range(pocet_kroku):\n",
    "        nahodny_x = random.uniform(a,b)\n",
    "        nahodny_y = random.uniform(a, b)\n",
    "        nahodny_z = random.uniform(a, b) \n",
    "        hodnota_fce += MC3D(nahodny_x, nahodny_y, nahodny_z)\n",
    "\n",
    "    integral = (b-a)**3 * (1/pocet_kroku) * hodnota_fce\n",
    "    \n",
    "    return integral"
   ]
  },
  {
   "cell_type": "code",
   "execution_count": 124,
   "metadata": {},
   "outputs": [
    {
     "data": {
      "text/plain": [
       "359.065"
      ]
     },
     "execution_count": 124,
     "metadata": {},
     "output_type": "execute_result"
    }
   ],
   "source": [
    "a,b = -1, 1\n",
    "max_pocet_kroku = 2000\n",
    "chyba = 0.01\n",
    "analyticky_vysledek = 8\n",
    "pocet_pro_nalezeni = 0\n",
    "\n",
    "for i in range(int(1e3)):\n",
    "    for aktualni_krok in range(1, max_pocet_kroku):\n",
    "        integral = metoda_stredni_hodnoty_3D(aktualni_krok, a,b)\n",
    "        if abs(integral - analyticky_vysledek) < 0.001:\n",
    "            pocet_pro_nalezeni += aktualni_krok\n",
    "            break\n",
    "    \n",
    "\n",
    "pocet_pro_nalezeni /=1e3\n",
    "pocet_pro_nalezeni "
   ]
  },
  {
   "cell_type": "markdown",
   "metadata": {},
   "source": [
    "#### 4D"
   ]
  },
  {
   "cell_type": "code",
   "execution_count": 125,
   "metadata": {},
   "outputs": [],
   "source": [
    "def nah_cislo_v_rozmezi(a,b):\n",
    "    x = random.uniform(a, b)\n",
    "    y = random.uniform(a, b)\n",
    "    z = random.uniform(a, b)\n",
    "    w = random.uniform(a, b)\n",
    "    return x, y, z, w "
   ]
  },
  {
   "cell_type": "code",
   "execution_count": 126,
   "metadata": {},
   "outputs": [],
   "source": [
    "def MC4D(x, y, z, w):\n",
    "    return x**2 + y**2 + z**2 + w**2\n",
    "\n",
    "def metoda_stredni_hodnoty_4D(pocet_kroku, a, b):\n",
    "\n",
    "    hodnota_fce = 0\n",
    "    \n",
    "    for i in range(pocet_kroku):\n",
    "        nahodny_x, nahodny_y, nahodny_z, nahodny_w = nah_cislo_v_rozmezi(a,b)\n",
    "        hodnota_fce += MC4D(nahodny_x, nahodny_y, nahodny_z, nahodny_w)\n",
    "\n",
    "    integral = (b-a)**4 * (1/pocet_kroku) * hodnota_fce\n",
    "    \n",
    "    return integral"
   ]
  },
  {
   "cell_type": "code",
   "execution_count": 127,
   "metadata": {},
   "outputs": [
    {
     "data": {
      "text/plain": [
       "631.181"
      ]
     },
     "execution_count": 127,
     "metadata": {},
     "output_type": "execute_result"
    }
   ],
   "source": [
    "a,b = -1, 1\n",
    "max_pocet_kroku = 2000\n",
    "chyba = 0.01\n",
    "analyticky_vysledek = 64/3\n",
    "pocet_pro_nalezeni = 0\n",
    "\n",
    "for i in range(int(1e3)):\n",
    "    for aktualni_krok in range(1, max_pocet_kroku):\n",
    "        integral = metoda_stredni_hodnoty_4D(aktualni_krok, a,b)\n",
    "        if abs(integral - analyticky_vysledek) < 0.001:\n",
    "            pocet_pro_nalezeni += aktualni_krok\n",
    "            break\n",
    "    \n",
    "\n",
    "pocet_pro_nalezeni /=1e3\n",
    "pocet_pro_nalezeni "
   ]
  },
  {
   "cell_type": "markdown",
   "metadata": {},
   "source": [
    "#### 5D"
   ]
  },
  {
   "cell_type": "code",
   "execution_count": 128,
   "metadata": {},
   "outputs": [],
   "source": [
    "def nah_cislo5_v_rozmezi(a,b):\n",
    "    x = random.uniform(a, b)\n",
    "    y = random.uniform(a, b)\n",
    "    z = random.uniform(a, b)\n",
    "    w = random.uniform(a, b)\n",
    "    v = random.uniform(a, b)\n",
    "    return x, y, z, w, v"
   ]
  },
  {
   "cell_type": "code",
   "execution_count": 129,
   "metadata": {},
   "outputs": [],
   "source": [
    "def MC5D(x, y, z, w, v):\n",
    "    return x**2 + y**2 + z**2 + w**2 + v**2\n",
    "\n",
    "def metoda_stredni_hodnoty_5D(pocet_kroku, a, b):\n",
    "\n",
    "    hodnota_fce = 0\n",
    "    \n",
    "    for i in range(pocet_kroku):\n",
    "        nahodny_x, nahodny_y, nahodny_z, nahodny_w, nahodny_v = nah_cislo5_v_rozmezi(a, b)\n",
    "        hodnota_fce += MC5D(nahodny_x, nahodny_y, nahodny_z, nahodny_w, nahodny_v)\n",
    "\n",
    "    integral = (b-a)**5 * (1/pocet_kroku) * hodnota_fce\n",
    "    \n",
    "    return integral"
   ]
  },
  {
   "cell_type": "code",
   "execution_count": 133,
   "metadata": {},
   "outputs": [
    {
     "ename": "",
     "evalue": "",
     "output_type": "error",
     "traceback": [
      "\u001b[1;31mThe Kernel crashed while executing code in the the current cell or a previous cell. Please review the code in the cell(s) to identify a possible cause of the failure. Click <a href='https://aka.ms/vscodeJupyterKernelCrash'>here</a> for more info. View Jupyter <a href='command:jupyter.viewOutput'>log</a> for further details."
     ]
    }
   ],
   "source": [
    "a,b = -1, 1\n",
    "max_pocet_kroku = 5000\n",
    "chyba = 0.01\n",
    "analyticky_vysledek = 53.33\n",
    "pocet_pro_nalezeni = 0\n",
    "\n",
    "for i in range(int(1e3)):\n",
    "    for aktualni_krok in range(1, max_pocet_kroku):\n",
    "        integral = metoda_stredni_hodnoty_4D(aktualni_krok, a,b)\n",
    "        if abs(integral - analyticky_vysledek) < chyba:\n",
    "            pocet_pro_nalezeni += aktualni_krok\n",
    "            break\n",
    "    \n",
    "\n",
    "pocet_pro_nalezeni /=1e3\n",
    "pocet_pro_nalezeni "
   ]
  },
  {
   "cell_type": "markdown",
   "metadata": {},
   "source": [
    "# Poovnani  a), b) závislost doby výpočtu t na dimenzi definičního oboru n.\n",
    "\n",
    "???? casova zavislost - bude to pocitat miliardy let, jednoduse v zavislosti na krocich"
   ]
  },
  {
   "cell_type": "code",
   "execution_count": 4,
   "metadata": {},
   "outputs": [],
   "source": [
    "# pocet kroku pro dosazeni vysledku s chybou <= 0.01, 1D - 5D\n",
    "obdelnikova_metoda = [9, 17**2, 29**3, 47**4, 70**5 ] #pocet na dimenze, dopocitat 70 pocitalo 5 hodin\n",
    "metoda_stredni_hodnoty = [97, 196, 360, 631, 1442 ] # za 9 hodin nedokazalo zprumerovat\n",
    "dimenze = np.linspace(1, 5, 5)"
   ]
  },
  {
   "cell_type": "code",
   "execution_count": 5,
   "metadata": {},
   "outputs": [
    {
     "data": {
      "image/png": "[encoded data removed]",
      "text/plain": [
       "<Figure size 640x480 with 1 Axes>"
      ]
     },
     "metadata": {},
     "output_type": "display_data"
    }
   ],
   "source": [
    "import matplotlib.pyplot as plt\n",
    "plt.yscale(\"log\")\n",
    "plt.xlabel(\"Pocet dimenze\")\n",
    "plt.ylabel(\"Pocet iteraci\")\n",
    "plt.plot(dimenze, obdelnikova_metoda, color = \"red\", label = \"Obdelnikova metoda\")\n",
    "plt.plot(dimenze, metoda_stredni_hodnoty, color = \"blue\", label = \"Metoda stredni hodnoty\")\n",
    "plt.legend()\n",
    "plt.show()"
   ]
  }
 ],
 "metadata": {
  "kernelspec": {
   "display_name": ".venv",
   "language": "python",
   "name": "python3"
  },
  "language_info": {
   "codemirror_mode": {
    "name": "ipython",
    "version": 3
   },
   "file_extension": ".py",
   "mimetype": "text/x-python",
   "name": "python",
   "nbconvert_exporter": "python",
   "pygments_lexer": "ipython3",
   "version": "3.11.7"
  }
 },
 "nbformat": 4,
 "nbformat_minor": 2
}
